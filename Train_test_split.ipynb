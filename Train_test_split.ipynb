{
 "cells": [
  {
   "cell_type": "markdown",
   "id": "cb6350cb",
   "metadata": {},
   "source": [
    "# Script: spliting dataset for machine learning"
   ]
  },
  {
   "cell_type": "markdown",
   "id": "5ce13a20",
   "metadata": {},
   "source": [
    "### install Split-folder library"
   ]
  },
  {
   "cell_type": "code",
   "execution_count": null,
   "id": "422fa7e9",
   "metadata": {},
   "outputs": [],
   "source": [
    "pip install split-folders"
   ]
  },
  {
   "cell_type": "markdown",
   "id": "66726853",
   "metadata": {},
   "source": [
    "### import  split-folders library"
   ]
  },
  {
   "cell_type": "code",
   "execution_count": 2,
   "id": "0bea2711",
   "metadata": {},
   "outputs": [],
   "source": [
    "import splitfolders"
   ]
  },
  {
   "cell_type": "markdown",
   "id": "1c24f27f",
   "metadata": {},
   "source": [
    "### define the input path"
   ]
  },
  {
   "cell_type": "code",
   "execution_count": 3,
   "id": "0540ec44",
   "metadata": {},
   "outputs": [],
   "source": [
    "#location of input data\n",
    "input_folder ='D:/Individual_Trees_photos/exatctcrop'"
   ]
  },
  {
   "cell_type": "markdown",
   "id": "c46acafa",
   "metadata": {},
   "source": [
    "### Split function:\n",
    "\n",
    "##### here, the training, testing and validation sets are defined (ratio=(.7, .2, .1))\n",
    ".7 = 70% of the data for training, .2 = 20% for testing and .1= 10% for validation \n",
    "\n",
    "\n",
    "\n",
    "##### Output: the location for saving datasets"
   ]
  },
  {
   "cell_type": "code",
   "execution_count": 4,
   "id": "e65070fe",
   "metadata": {},
   "outputs": [
    {
     "name": "stderr",
     "output_type": "stream",
     "text": [
      "Copying files: 527 files [00:16, 32.90 files/s]\n"
     ]
    }
   ],
   "source": [
    "\n",
    "splitfolders.ratio(input_folder, output=\"D:/Individual_Trees_photos/exatctcrop_tri\",\n",
    "                   seed=42, ratio=(.7, .2, .1),\n",
    "                   group_prefix=None)"
   ]
  },
  {
   "cell_type": "code",
   "execution_count": null,
   "id": "359eded5",
   "metadata": {},
   "outputs": [],
   "source": []
  }
 ],
 "metadata": {
  "kernelspec": {
   "display_name": "Python 3 (ipykernel)",
   "language": "python",
   "name": "python3"
  },
  "language_info": {
   "codemirror_mode": {
    "name": "ipython",
    "version": 3
   },
   "file_extension": ".py",
   "mimetype": "text/x-python",
   "name": "python",
   "nbconvert_exporter": "python",
   "pygments_lexer": "ipython3",
   "version": "3.9.16"
  }
 },
 "nbformat": 4,
 "nbformat_minor": 5
}
